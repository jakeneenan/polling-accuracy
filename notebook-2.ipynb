{
 "cells": [
  {
   "attachments": {},
   "cell_type": "markdown",
   "metadata": {},
   "source": [
    "# Python and R"
   ]
  },
  {
   "cell_type": "code",
   "execution_count": 1,
   "metadata": {},
   "outputs": [],
   "source": [
    "%load_ext rpy2.ipython\n",
    "%load_ext autoreload\n",
    "%autoreload 2\n",
    "\n",
    "%matplotlib inline  \n",
    "from matplotlib import rcParams\n",
    "rcParams['figure.figsize'] = (16, 100)\n",
    "\n",
    "import warnings\n",
    "from rpy2.rinterface import RRuntimeWarning\n",
    "warnings.filterwarnings(\"ignore\") # Ignore all warnings\n",
    "# warnings.filterwarnings(\"ignore\", category=RRuntimeWarning) # Show some warnings\n",
    "\n",
    "import pandas as pd\n",
    "import numpy as np\n",
    "import matplotlib.pyplot as plt\n",
    "from IPython.display import display, HTML"
   ]
  },
  {
   "cell_type": "code",
   "execution_count": 2,
   "metadata": {},
   "outputs": [
    {
     "data": {
      "application/javascript": "// Disable auto-scrolling\nIPython.OutputArea.prototype._should_scroll = function(lines) {\n    return false;\n}\n",
      "text/plain": [
       "<IPython.core.display.Javascript object>"
      ]
     },
     "metadata": {},
     "output_type": "display_data"
    }
   ],
   "source": [
    "%%javascript\n",
    "// Disable auto-scrolling\n",
    "IPython.OutputArea.prototype._should_scroll = function(lines) {\n",
    "    return false;\n",
    "}"
   ]
  },
  {
   "cell_type": "code",
   "execution_count": 2,
   "metadata": {},
   "outputs": [
    {
     "name": "stderr",
     "output_type": "stream",
     "text": [
      "R[write to console]: Loading required package: tidyverse\n",
      "\n"
     ]
    },
    {
     "name": "stdout",
     "output_type": "stream",
     "text": [
      "── Attaching packages ─────────────────────────────────────── tidyverse 1.3.2 ──\n",
      "✔ ggplot2 3.4.0      ✔ purrr   1.0.1 \n",
      "✔ tibble  3.1.8      ✔ dplyr   1.0.10\n",
      "✔ tidyr   1.2.1      ✔ stringr 1.4.1 \n",
      "✔ readr   2.1.3      ✔ forcats 0.5.2 \n",
      "── Conflicts ────────────────────────────────────────── tidyverse_conflicts() ──\n",
      "✖ dplyr::filter() masks stats::filter()\n",
      "✖ dplyr::lag()    masks stats::lag()\n"
     ]
    }
   ],
   "source": [
    "%%R\n",
    "\n",
    "# My commonly used R imports\n",
    "\n",
    "require('tidyverse')\n"
   ]
  },
  {
   "attachments": {},
   "cell_type": "markdown",
   "metadata": {},
   "source": [
    "\n",
    "# Read the data\n",
    "\n"
   ]
  },
  {
   "attachments": {},
   "cell_type": "markdown",
   "metadata": {},
   "source": [
    "The cell below loads the data in python and filters down to presidential general election polls only:"
   ]
  },
  {
   "cell_type": "code",
   "execution_count": 8,
   "metadata": {},
   "outputs": [
    {
     "data": {
      "text/html": [
       "<div>\n",
       "<style scoped>\n",
       "    .dataframe tbody tr th:only-of-type {\n",
       "        vertical-align: middle;\n",
       "    }\n",
       "\n",
       "    .dataframe tbody tr th {\n",
       "        vertical-align: top;\n",
       "    }\n",
       "\n",
       "    .dataframe thead th {\n",
       "        text-align: right;\n",
       "    }\n",
       "</style>\n",
       "<table border=\"1\" class=\"dataframe\">\n",
       "  <thead>\n",
       "    <tr style=\"text-align: right;\">\n",
       "      <th></th>\n",
       "      <th>poll_id</th>\n",
       "      <th>question_id</th>\n",
       "      <th>race_id</th>\n",
       "      <th>year</th>\n",
       "      <th>race</th>\n",
       "      <th>location</th>\n",
       "      <th>type_simple</th>\n",
       "      <th>type_detail</th>\n",
       "      <th>pollster</th>\n",
       "      <th>pollster_rating_id</th>\n",
       "      <th>...</th>\n",
       "      <th>cand2_pct</th>\n",
       "      <th>cand3_pct</th>\n",
       "      <th>margin_poll</th>\n",
       "      <th>electiondate</th>\n",
       "      <th>cand1_actual</th>\n",
       "      <th>cand2_actual</th>\n",
       "      <th>margin_actual</th>\n",
       "      <th>bias</th>\n",
       "      <th>rightcall</th>\n",
       "      <th>comment</th>\n",
       "    </tr>\n",
       "  </thead>\n",
       "  <tbody>\n",
       "    <tr>\n",
       "      <th>470</th>\n",
       "      <td>6478</td>\n",
       "      <td>7947</td>\n",
       "      <td>40</td>\n",
       "      <td>2000</td>\n",
       "      <td>2000_Pres-G_US</td>\n",
       "      <td>US</td>\n",
       "      <td>Pres-G</td>\n",
       "      <td>Pres-G</td>\n",
       "      <td>Zogby Interactive/JZ Analytics</td>\n",
       "      <td>395</td>\n",
       "      <td>...</td>\n",
       "      <td>44.0</td>\n",
       "      <td>5.0</td>\n",
       "      <td>-1.0</td>\n",
       "      <td>11/7/00</td>\n",
       "      <td>48.31</td>\n",
       "      <td>47.79</td>\n",
       "      <td>0.51</td>\n",
       "      <td>-1.51</td>\n",
       "      <td>0.0</td>\n",
       "      <td>for Reuters | MSNBC</td>\n",
       "    </tr>\n",
       "    <tr>\n",
       "      <th>471</th>\n",
       "      <td>6483</td>\n",
       "      <td>7952</td>\n",
       "      <td>815</td>\n",
       "      <td>2000</td>\n",
       "      <td>2000_Pres-G_FL</td>\n",
       "      <td>FL</td>\n",
       "      <td>Pres-G</td>\n",
       "      <td>Pres-G</td>\n",
       "      <td>McLaughlin &amp; Associates</td>\n",
       "      <td>203</td>\n",
       "      <td>...</td>\n",
       "      <td>44.0</td>\n",
       "      <td>3.0</td>\n",
       "      <td>-1.0</td>\n",
       "      <td>11/7/00</td>\n",
       "      <td>48.84</td>\n",
       "      <td>48.85</td>\n",
       "      <td>-0.01</td>\n",
       "      <td>-0.99</td>\n",
       "      <td>1.0</td>\n",
       "      <td>for Bill McCollum</td>\n",
       "    </tr>\n",
       "    <tr>\n",
       "      <th>472</th>\n",
       "      <td>6470</td>\n",
       "      <td>7939</td>\n",
       "      <td>820</td>\n",
       "      <td>2000</td>\n",
       "      <td>2000_Pres-G_IL</td>\n",
       "      <td>IL</td>\n",
       "      <td>Pres-G</td>\n",
       "      <td>Pres-G</td>\n",
       "      <td>KRC Research</td>\n",
       "      <td>160</td>\n",
       "      <td>...</td>\n",
       "      <td>43.0</td>\n",
       "      <td>4.0</td>\n",
       "      <td>2.0</td>\n",
       "      <td>11/7/00</td>\n",
       "      <td>54.60</td>\n",
       "      <td>42.58</td>\n",
       "      <td>12.01</td>\n",
       "      <td>-10.01</td>\n",
       "      <td>1.0</td>\n",
       "      <td>NaN</td>\n",
       "    </tr>\n",
       "    <tr>\n",
       "      <th>473</th>\n",
       "      <td>6473</td>\n",
       "      <td>7942</td>\n",
       "      <td>820</td>\n",
       "      <td>2000</td>\n",
       "      <td>2000_Pres-G_IL</td>\n",
       "      <td>IL</td>\n",
       "      <td>Pres-G</td>\n",
       "      <td>Pres-G</td>\n",
       "      <td>Research 2000</td>\n",
       "      <td>281</td>\n",
       "      <td>...</td>\n",
       "      <td>40.0</td>\n",
       "      <td>3.0</td>\n",
       "      <td>7.0</td>\n",
       "      <td>11/7/00</td>\n",
       "      <td>54.60</td>\n",
       "      <td>42.58</td>\n",
       "      <td>12.01</td>\n",
       "      <td>-5.01</td>\n",
       "      <td>1.0</td>\n",
       "      <td>NaN</td>\n",
       "    </tr>\n",
       "    <tr>\n",
       "      <th>474</th>\n",
       "      <td>6474</td>\n",
       "      <td>7943</td>\n",
       "      <td>836</td>\n",
       "      <td>2000</td>\n",
       "      <td>2000_Pres-G_NH</td>\n",
       "      <td>NH</td>\n",
       "      <td>Pres-G</td>\n",
       "      <td>Pres-G</td>\n",
       "      <td>Research 2000</td>\n",
       "      <td>281</td>\n",
       "      <td>...</td>\n",
       "      <td>41.0</td>\n",
       "      <td>1.0</td>\n",
       "      <td>3.0</td>\n",
       "      <td>11/7/00</td>\n",
       "      <td>46.80</td>\n",
       "      <td>48.07</td>\n",
       "      <td>-1.27</td>\n",
       "      <td>4.27</td>\n",
       "      <td>0.0</td>\n",
       "      <td>NaN</td>\n",
       "    </tr>\n",
       "  </tbody>\n",
       "</table>\n",
       "<p>5 rows × 31 columns</p>\n",
       "</div>"
      ],
      "text/plain": [
       "     poll_id  question_id  race_id  year            race location type_simple  \\\n",
       "470     6478         7947       40  2000  2000_Pres-G_US       US      Pres-G   \n",
       "471     6483         7952      815  2000  2000_Pres-G_FL       FL      Pres-G   \n",
       "472     6470         7939      820  2000  2000_Pres-G_IL       IL      Pres-G   \n",
       "473     6473         7942      820  2000  2000_Pres-G_IL       IL      Pres-G   \n",
       "474     6474         7943      836  2000  2000_Pres-G_NH       NH      Pres-G   \n",
       "\n",
       "    type_detail                        pollster  pollster_rating_id  ...  \\\n",
       "470      Pres-G  Zogby Interactive/JZ Analytics                 395  ...   \n",
       "471      Pres-G         McLaughlin & Associates                 203  ...   \n",
       "472      Pres-G                    KRC Research                 160  ...   \n",
       "473      Pres-G                   Research 2000                 281  ...   \n",
       "474      Pres-G                   Research 2000                 281  ...   \n",
       "\n",
       "    cand2_pct cand3_pct margin_poll  electiondate cand1_actual  cand2_actual  \\\n",
       "470      44.0       5.0        -1.0       11/7/00        48.31         47.79   \n",
       "471      44.0       3.0        -1.0       11/7/00        48.84         48.85   \n",
       "472      43.0       4.0         2.0       11/7/00        54.60         42.58   \n",
       "473      40.0       3.0         7.0       11/7/00        54.60         42.58   \n",
       "474      41.0       1.0         3.0       11/7/00        46.80         48.07   \n",
       "\n",
       "    margin_actual   bias rightcall              comment  \n",
       "470          0.51  -1.51       0.0  for Reuters | MSNBC  \n",
       "471         -0.01  -0.99       1.0    for Bill McCollum  \n",
       "472         12.01 -10.01       1.0                  NaN  \n",
       "473         12.01  -5.01       1.0                  NaN  \n",
       "474         -1.27   4.27       0.0                  NaN  \n",
       "\n",
       "[5 rows x 31 columns]"
      ]
     },
     "execution_count": 8,
     "metadata": {},
     "output_type": "execute_result"
    }
   ],
   "source": [
    "\n",
    "df = pd.read_csv('raw-polls.csv')\\\n",
    "    .query(\"type_simple=='Pres-G'\")\n",
    "df.head()"
   ]
  },
  {
   "attachments": {},
   "cell_type": "markdown",
   "metadata": {},
   "source": [
    "The cell below loads the same data in R and applies the same filter:"
   ]
  },
  {
   "cell_type": "code",
   "execution_count": 9,
   "metadata": {},
   "outputs": [
    {
     "name": "stdout",
     "output_type": "stream",
     "text": [
      "Rows: 10776 Columns: 31\n",
      "── Column specification ────────────────────────────────────────────────────────\n",
      "Delimiter: \",\"\n",
      "chr (14): race, location, type_simple, type_detail, pollster, methodology, p...\n",
      "dbl (17): poll_id, question_id, race_id, year, pollster_rating_id, samplesiz...\n",
      "\n",
      "ℹ Use `spec()` to retrieve the full column specification for this data.\n",
      "ℹ Specify the column types or set `show_col_types = FALSE` to quiet this message.\n",
      "# A tibble: 2,940 × 31\n",
      "   poll_id questio…¹ race_id  year race  locat…² type_…³ type_…⁴ polls…⁵ polls…⁶\n",
      "     <dbl>     <dbl>   <dbl> <dbl> <chr> <chr>   <chr>   <chr>   <chr>     <dbl>\n",
      " 1    6478      7947      40  2000 2000… US      Pres-G  Pres-G  Zogby …     395\n",
      " 2    6483      7952     815  2000 2000… FL      Pres-G  Pres-G  McLaug…     203\n",
      " 3    6470      7939     820  2000 2000… IL      Pres-G  Pres-G  KRC Re…     160\n",
      " 4    6473      7942     820  2000 2000… IL      Pres-G  Pres-G  Resear…     281\n",
      " 5    6474      7943     836  2000 2000… NH      Pres-G  Pres-G  Resear…     281\n",
      " 6    6472      7941     844  2000 2000… PA      Pres-G  Pres-G  Lincol…     170\n",
      " 7    6459    123272      40  2000 2000… US      Pres-G  Pres-G  NBC Ne…     221\n",
      " 8   63601    117065      40  2000 2000… US      Pres-G  Pres-G  Rasmus…     277\n",
      " 9    6479      7948     807  2000 2000… AL      Pres-G  Pres-G  Univer…     361\n",
      "10   25719      7940     828  2000 2000… MI      Pres-G  Pres-G  EPIC-M…      84\n",
      "# … with 2,930 more rows, 21 more variables: methodology <chr>, partisan <chr>,\n",
      "#   polldate <chr>, samplesize <dbl>, cand1_name <chr>, cand1_id <dbl>,\n",
      "#   cand1_party <chr>, cand1_pct <dbl>, cand2_name <chr>, cand2_id <dbl>,\n",
      "#   cand2_party <chr>, cand2_pct <dbl>, cand3_pct <dbl>, margin_poll <dbl>,\n",
      "#   electiondate <chr>, cand1_actual <dbl>, cand2_actual <dbl>,\n",
      "#   margin_actual <dbl>, bias <dbl>, rightcall <dbl>, comment <chr>, and\n",
      "#   abbreviated variable names ¹​question_id, ²​location, ³​type_simple, …\n",
      "# ℹ Use `print(n = ...)` to see more rows, and `colnames()` to see all variable names\n"
     ]
    }
   ],
   "source": [
    "%%R\n",
    "\n",
    "df <- read_csv('raw-polls.csv') %>% # read CSV\n",
    "    filter(type_simple=='Pres-G') # filter to presidential general only\n",
    "\n",
    "df"
   ]
  },
  {
   "attachments": {},
   "cell_type": "markdown",
   "metadata": {},
   "source": [
    "# Example Charts\n",
    "\n",
    "Here are some very basic charts to get you started at looking at how far off these polls have been relative to the actual results of elections (`bias` variable). You will probably need to modify them significantly to get anything meaningful out of your exploratory dataviz. Think about which variables you might need to facet on the histogram (or what you might want to set the y axis to on the dotplot). \n",
    "\n",
    "note: This section is just example charts. You don't have to do anything here, just leave these charts as a starting point for you to copy/paste later. Scroll to the next section to get down to work!\n"
   ]
  },
  {
   "cell_type": "code",
   "execution_count": 6,
   "metadata": {},
   "outputs": [
    {
     "name": "stdout",
     "output_type": "stream",
     "text": [
      "`stat_bin()` using `bins = 30`. Pick better value with `binwidth`.\n"
     ]
    },
    {
     "data": {
      "image/png": "[encoded data removed]"
     },
     "metadata": {},
     "output_type": "display_data"
    }
   ],
   "source": [
    "%%R \n",
    "\n",
    "ggplot(df) +\n",
    "    geom_histogram(aes(x=bias)) +\n",
    "    geom_vline(aes(xintercept=0), color='red') +\n",
    "    labs(\n",
    "        title='Inaccuracy of polls in presidential elections',\n",
    "        subtitle=\"positive numbers = polls overestimated DEM support\\nnegative numbers= polls overestimated GOP support\",\n",
    "        )\n"
   ]
  },
  {
   "cell_type": "code",
   "execution_count": 7,
   "metadata": {},
   "outputs": [
    {
     "data": {
      "image/png": "[encoded data removed]"
     },
     "metadata": {},
     "output_type": "display_data"
    }
   ],
   "source": [
    "%%R \n",
    "\n",
    "ggplot(df) +\n",
    "    aes(x=bias, y=1) + \n",
    "    geom_point() "
   ]
  },
  {
   "attachments": {},
   "cell_type": "markdown",
   "metadata": {},
   "source": [
    "# Exploratory Data Visualization\n",
    "\n",
    "In this section you'll make a few charts to explore the data. For each chart, write a short explanation of what you think you can and cannot conclude from the chart."
   ]
  },
  {
   "attachments": {},
   "cell_type": "markdown",
   "metadata": {},
   "source": [
    "### Exploratory chart 1"
   ]
  },
  {
   "cell_type": "code",
   "execution_count": 29,
   "metadata": {},
   "outputs": [
    {
     "data": {
      "image/png": "[encoded data removed]"
     },
     "metadata": {},
     "output_type": "display_data"
    }
   ],
   "source": [
    "%%R\n",
    "require('ggbeeswarm')\n",
    "# 👉Chart 1\n",
    "# Insert code for a ggplot chart below\n",
    "ggplot(df) +\n",
    "    aes(x = abs(margin_poll-margin_actual)) +\n",
    "    geom_histogram(bins=30) +\n",
    "    labs(x=\"Error\", y=\"Count\", title=\"Most U.S. pollsters maintain a sub-5% margin of error in presidential elections\", subtitle=\"Absolute difference between poll margins of victory and actual margins\")\n",
    "\n"
   ]
  },
  {
   "attachments": {},
   "cell_type": "markdown",
   "metadata": {},
   "source": [
    "👉 Summary\n",
    "\n",
    "_Replace this text with your summary of the chart above. Be very careful with your language. Use language that is as conclusive as you can make it, but doesn't overstep the limitaitons of what you can tell based on the data and your analysis of the data so far._\n",
    "\n",
    "👉 Reflection\n",
    "\n",
    "What I can conclude based on this chart:\n",
    "* TKTK \n",
    "* TKTK\n",
    "* TKTK\n",
    "\n",
    "What I can't conclude based on this chart:\n",
    "* TKTK \n",
    "* TKTK\n",
    "* TKTK\n",
    "\n"
   ]
  },
  {
   "cell_type": "markdown",
   "metadata": {},
   "source": [
    "### Exploratory chart 2"
   ]
  },
  {
   "cell_type": "code",
   "execution_count": 32,
   "metadata": {},
   "outputs": [
    {
     "name": "stdout",
     "output_type": "stream",
     "text": [
      "NULL\n"
     ]
    }
   ],
   "source": [
    "%%R\n",
    "\n",
    "# 👉Chart 2\n",
    "# Insert code for a ggplot chart below\n"
   ]
  },
  {
   "cell_type": "markdown",
   "metadata": {},
   "source": [
    "👉 Summary\n",
    "\n",
    "_Replace this text with your summary of the chart above. Be very careful with your language. Use language that is as conclusive as you can make it, but doesn't overstep the limitaitons of what you can tell based on the data and your analysis of the data so far._\n",
    "\n",
    "👉 Reflection\n",
    "\n",
    "What I can conclude based on this chart:\n",
    "* TKTK \n",
    "* TKTK\n",
    "* TKTK\n",
    "\n",
    "What I can't conclude based on this chart:\n",
    "* TKTK \n",
    "* TKTK\n",
    "* TKTK\n",
    "\n"
   ]
  },
  {
   "attachments": {},
   "cell_type": "markdown",
   "metadata": {},
   "source": [
    "### Exploratory chart 3"
   ]
  },
  {
   "cell_type": "code",
   "execution_count": 33,
   "metadata": {},
   "outputs": [
    {
     "name": "stdout",
     "output_type": "stream",
     "text": [
      "NULL\n"
     ]
    }
   ],
   "source": [
    "%%R\n",
    "\n",
    "# 👉 Chart 2\n",
    "# Insert code for a ggplot chart below\n"
   ]
  },
  {
   "cell_type": "markdown",
   "metadata": {},
   "source": [
    "👉 Summary\n",
    "\n",
    "_Replace this text with your summary of the chart above. Be very careful with your language. Use language that is as conclusive as you can make it, but doesn't overstep the limitaitons of what you can tell based on the data and your analysis of the data so far._\n",
    "\n",
    "👉 Reflection\n",
    "\n",
    "What I can conclude based on this chart:\n",
    "* TKTK \n",
    "* TKTK\n",
    "* TKTK\n",
    "\n",
    "What I can't conclude based on this chart:\n",
    "* TKTK \n",
    "* TKTK\n",
    "* TKTK\n",
    "\n"
   ]
  },
  {
   "attachments": {},
   "cell_type": "markdown",
   "metadata": {},
   "source": [
    "# New Questions\n",
    "\n",
    "Good exploratory viz generates some answers, but usually lots of new questions. \n",
    "What new questions do you have now that you've had a chance to do some exploration with the data?\n",
    "\n",
    "👉"
   ]
  }
 ],
 "metadata": {
  "kernelspec": {
   "display_name": "Python 3",
   "language": "python",
   "name": "python3"
  },
  "language_info": {
   "codemirror_mode": {
    "name": "ipython",
    "version": 3
   },
   "file_extension": ".py",
   "mimetype": "text/x-python",
   "name": "python",
   "nbconvert_exporter": "python",
   "pygments_lexer": "ipython3",
   "version": "3.10.9"
  },
  "vscode": {
   "interpreter": {
    "hash": "55bb2e752bce1f83d155019f390a3b6bd4334aa917531e596a59913e83dcc58a"
   }
  }
 },
 "nbformat": 4,
 "nbformat_minor": 2
}
